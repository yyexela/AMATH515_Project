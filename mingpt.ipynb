{
 "cells": [
  {
   "cell_type": "markdown",
   "metadata": {},
   "source": [
    "\n",
    "## Project Description\n",
    "\n",
    "Modern deep learning hinges on variants of stochastic gradient descent. Give an overview of some of the algorithms (ADAM,\n",
    "RMSProp, Adagrad,momentum, etc.) and stepsizing schemes (learning rate decay, cosine annealing, superconvergence, hyper-\n",
    "gradient learning rate adaptation, etc.) and perform an empirical comparison of their performance on some test problems of\n",
    "your choice. Obviously, no comparison here can be anywhere close to exhaustive due to the overabundance of deep learning op-\n",
    "timization papers, so just go through a handful of ideas that you find interesting. If you want to do this with realistic (somewhat\n",
    "large) networks, you’ll probably need access to some GPUs. This will take a bit more work (but should still be doable!) to do\n",
    "as a project if you don’t have any previous experience in deep learning.\n",
    "\n"
   ]
  },
  {
   "cell_type": "markdown",
   "metadata": {},
   "source": [
    "\n",
    "## Notes:\n",
    "- Test problems:\n",
    "  - [CIFAR-10](https://www.cs.toronto.edu/~kriz/cifar.html)\n",
    "    - image classification\n",
    "  - [minGPT](https://github.com/karpathy/minGPT?tab=readme-ov-file)\n",
    "    - Text Generation (but trained by filling in missing words)\n",
    "  - [California Housing](https://www.dcc.fc.up.pt/~ltorgo/Regression/cal_housing.html)\n",
    "    - Regression (predict housing cost)\n",
    "  - Simple 1D optimization to visualize things\n",
    "    - Rosenbrock function\n",
    "\n"
   ]
  },
  {
   "cell_type": "markdown",
   "metadata": {},
   "source": [
    "\n",
    "## Text Generation\n"
   ]
  },
  {
   "cell_type": "markdown",
   "metadata": {},
   "source": [
    "### Imports"
   ]
  },
  {
   "cell_type": "code",
   "execution_count": 1,
   "metadata": {},
   "outputs": [
    {
     "name": "stdout",
     "output_type": "stream",
     "text": [
      "/home/alexey/School/Classes/AMATH 515/AMATH515_Project/submodules\n",
      "GPU Available? True\n"
     ]
    }
   ],
   "source": [
    "# Reload external files when running cells\n",
    "%load_ext autoreload\n",
    "%autoreload 2\n",
    "\n",
    "# Imports\n",
    "import torch\n",
    "import numpy as np\n",
    "import pathlib\n",
    "import os\n",
    "import sys\n",
    "\n",
    "# Add custom package to import path and import it\n",
    "file_dir = pathlib.Path().resolve()\n",
    "pkg_dir = os.path.join(file_dir, \"submodules\")\n",
    "print(pkg_dir)\n",
    "sys.path.insert(0, pkg_dir)\n",
    "sys.path.insert(0, os.path.join(pkg_dir, \"minGPT\"))\n",
    "sys.path.insert(0, os.path.join(pkg_dir, \"amath515_pkg\"))\n",
    "from amath515_pkg.src import *\n",
    "\n",
    "# Load minGTP\n",
    "from mingpt.model import GPT\n",
    "from mingpt.trainer import Trainer\n",
    "from mingpt.utils import CharDataset, CfgNode as CN\n",
    "\n",
    "# Load config file\n",
    "pkg_config = helpers.get_config()\n",
    "\n",
    "# Set seeds\n",
    "np.random.seed(pkg_config['mingpt_np_seed'])\n",
    "torch.manual_seed(pkg_config['mingpt_torch_seed'])\n",
    "\n",
    "# Print matplotlibe plots inline\n",
    "%matplotlib inline\n",
    "\n",
    "# Make sure Torch is installed and see if a GPU is available\n",
    "print(\"GPU Available?\",torch.cuda.is_available())\n",
    "device = \"cpu\"\n",
    "if torch.cuda.is_available():\n",
    "    device = \"cuda\"\n"
   ]
  },
  {
   "cell_type": "markdown",
   "metadata": {},
   "source": [
    "### Load Tiny Shakespeare Dataset"
   ]
  },
  {
   "cell_type": "code",
   "execution_count": 2,
   "metadata": {},
   "outputs": [
    {
     "name": "stdout",
     "output_type": "stream",
     "text": [
      "data has 1115394 characters, 65 unique.\n"
     ]
    }
   ],
   "source": [
    "\n",
    "# To download tiny-shakespeare, go to https://raw.githubusercontent.com/karpathy/char-rnn/master/data/tinyshakespeare/input.txt and put it in the \"Datasets\" folder\n",
    "mingpt_config = helpers.get_minGPT_config()\n",
    "with open(os.path.join(file_dir, 'Datasets', 'tiny-shakespeare.txt'), 'r') as file:\n",
    "    tiny_shakespeare = file.read()\n",
    "train_dataset = CharDataset(mingpt_config.data, tiny_shakespeare)\n"
   ]
  },
  {
   "cell_type": "markdown",
   "metadata": {},
   "source": [
    "### Configure model and trainer"
   ]
  },
  {
   "cell_type": "code",
   "execution_count": 3,
   "metadata": {},
   "outputs": [
    {
     "name": "stdout",
     "output_type": "stream",
     "text": [
      "number of parameters: 2.71M\n",
      "running on device cuda\n"
     ]
    }
   ],
   "source": [
    "\n",
    "# construct the model\n",
    "mingpt_config.model.vocab_size = train_dataset.get_vocab_size()\n",
    "mingpt_config.model.block_size = train_dataset.get_block_size()\n",
    "model = GPT(mingpt_config.model)\n",
    "\n",
    "# prepare for training otherwise\n",
    "# construct the trainer object\n",
    "mingpt_config.trainer.max_iters = pkg_config['mingpt_iters']\n",
    "mingpt_config.trainer.optimizer_str = pkg_config['mingpt_SGD_method']\n",
    "mingpt_config.trainer.scheduler_str = pkg_config['mingpt_Scheduler']\n",
    "trainer = Trainer(mingpt_config.trainer, model, train_dataset)\n",
    "\n",
    "# construct callback function\n",
    "callback = lambda x: training.min_gpt_batch_end_callback(model, mingpt_config, train_dataset, x)\n",
    "trainer.set_callback('on_batch_end', callback)\n",
    "\n"
   ]
  },
  {
   "cell_type": "markdown",
   "metadata": {},
   "source": [
    "\n",
    "### GPT Training\n"
   ]
  },
  {
   "cell_type": "code",
   "execution_count": 4,
   "metadata": {},
   "outputs": [
    {
     "name": "stdout",
     "output_type": "stream",
     "text": [
      "Iteration 0, lr 0.000500\n",
      "---------------------------------\n",
      "loss: 3.251486 [iter 10 of 2000]\n",
      "loss: 3.079407 [iter 20 of 2000]\n",
      "loss: 3.005903 [iter 30 of 2000]\n",
      "loss: 2.946864 [iter 40 of 2000]\n",
      "loss: 2.923456 [iter 50 of 2000]\n",
      "loss: 2.858731 [iter 60 of 2000]\n",
      "loss: 2.851191 [iter 70 of 2000]\n",
      "loss: 2.843078 [iter 80 of 2000]\n",
      "loss: 2.809901 [iter 90 of 2000]\n",
      "\n",
      "Iteration 100, lr 0.000450\n",
      "---------------------------------\n",
      "loss: 2.780070 [iter 110 of 2000]\n",
      "loss: 2.767901 [iter 120 of 2000]\n",
      "loss: 2.758850 [iter 130 of 2000]\n",
      "loss: 2.735669 [iter 140 of 2000]\n",
      "loss: 2.734176 [iter 150 of 2000]\n",
      "loss: 2.740183 [iter 160 of 2000]\n",
      "loss: 2.728583 [iter 170 of 2000]\n",
      "loss: 2.728292 [iter 180 of 2000]\n",
      "loss: 2.703377 [iter 190 of 2000]\n",
      "\n",
      "Iteration 200, lr 0.000405\n",
      "---------------------------------\n",
      "loss: 2.717697 [iter 210 of 2000]\n",
      "loss: 2.692518 [iter 220 of 2000]\n",
      "loss: 2.699044 [iter 230 of 2000]\n",
      "loss: 2.708072 [iter 240 of 2000]\n",
      "loss: 2.690064 [iter 250 of 2000]\n",
      "loss: 2.692597 [iter 260 of 2000]\n",
      "loss: 2.684193 [iter 270 of 2000]\n",
      "loss: 2.699239 [iter 280 of 2000]\n",
      "loss: 2.682683 [iter 290 of 2000]\n",
      "\n",
      "Iteration 300, lr 0.000365\n",
      "---------------------------------\n",
      "loss: 2.689333 [iter 310 of 2000]\n",
      "loss: 2.674293 [iter 320 of 2000]\n",
      "loss: 2.694257 [iter 330 of 2000]\n",
      "loss: 2.688719 [iter 340 of 2000]\n",
      "loss: 2.651302 [iter 350 of 2000]\n",
      "loss: 2.650156 [iter 360 of 2000]\n",
      "loss: 2.642844 [iter 370 of 2000]\n",
      "loss: 2.656569 [iter 380 of 2000]\n",
      "loss: 2.637773 [iter 390 of 2000]\n",
      "\n",
      "Iteration 400, lr 0.000328\n",
      "---------------------------------\n",
      "loss: 2.650500 [iter 410 of 2000]\n",
      "loss: 2.655663 [iter 420 of 2000]\n",
      "loss: 2.653180 [iter 430 of 2000]\n",
      "loss: 2.651190 [iter 440 of 2000]\n",
      "loss: 2.655557 [iter 450 of 2000]\n",
      "loss: 2.643943 [iter 460 of 2000]\n",
      "loss: 2.641210 [iter 470 of 2000]\n",
      "loss: 2.648344 [iter 480 of 2000]\n",
      "loss: 2.658808 [iter 490 of 2000]\n",
      "\n",
      "Iteration 500, lr 0.000295\n",
      "---------------------------------\n",
      "loss: 2.633539 [iter 510 of 2000]\n",
      "loss: 2.665425 [iter 520 of 2000]\n",
      "loss: 2.647107 [iter 530 of 2000]\n",
      "loss: 2.642184 [iter 540 of 2000]\n",
      "loss: 2.635247 [iter 550 of 2000]\n",
      "loss: 2.622425 [iter 560 of 2000]\n",
      "loss: 2.623938 [iter 570 of 2000]\n",
      "loss: 2.662617 [iter 580 of 2000]\n",
      "loss: 2.616926 [iter 590 of 2000]\n",
      "\n",
      "Iteration 600, lr 0.000266\n",
      "---------------------------------\n",
      "loss: 2.647362 [iter 610 of 2000]\n",
      "loss: 2.612308 [iter 620 of 2000]\n",
      "loss: 2.616909 [iter 630 of 2000]\n",
      "loss: 2.636783 [iter 640 of 2000]\n",
      "loss: 2.632940 [iter 650 of 2000]\n",
      "loss: 2.622167 [iter 660 of 2000]\n",
      "loss: 2.649599 [iter 670 of 2000]\n",
      "loss: 2.646701 [iter 680 of 2000]\n",
      "loss: 2.645706 [iter 690 of 2000]\n",
      "\n",
      "Iteration 700, lr 0.000239\n",
      "---------------------------------\n",
      "loss: 2.658322 [iter 710 of 2000]\n",
      "loss: 2.641343 [iter 720 of 2000]\n",
      "loss: 2.654929 [iter 730 of 2000]\n",
      "loss: 2.642472 [iter 740 of 2000]\n",
      "loss: 2.640874 [iter 750 of 2000]\n",
      "loss: 2.621738 [iter 760 of 2000]\n",
      "loss: 2.636198 [iter 770 of 2000]\n",
      "loss: 2.614778 [iter 780 of 2000]\n",
      "loss: 2.657602 [iter 790 of 2000]\n",
      "\n",
      "Iteration 800, lr 0.000215\n",
      "---------------------------------\n",
      "loss: 2.636448 [iter 810 of 2000]\n",
      "loss: 2.624910 [iter 820 of 2000]\n",
      "loss: 2.624721 [iter 830 of 2000]\n",
      "loss: 2.616222 [iter 840 of 2000]\n",
      "loss: 2.611615 [iter 850 of 2000]\n",
      "loss: 2.640389 [iter 860 of 2000]\n",
      "loss: 2.614805 [iter 870 of 2000]\n",
      "loss: 2.628025 [iter 880 of 2000]\n",
      "loss: 2.646186 [iter 890 of 2000]\n",
      "\n",
      "Iteration 900, lr 0.000194\n",
      "---------------------------------\n",
      "loss: 2.620880 [iter 910 of 2000]\n",
      "loss: 2.649032 [iter 920 of 2000]\n",
      "loss: 2.635645 [iter 930 of 2000]\n",
      "loss: 2.610182 [iter 940 of 2000]\n",
      "loss: 2.618224 [iter 950 of 2000]\n",
      "loss: 2.627871 [iter 960 of 2000]\n",
      "loss: 2.608083 [iter 970 of 2000]\n",
      "loss: 2.627023 [iter 980 of 2000]\n",
      "loss: 2.630833 [iter 990 of 2000]\n",
      "\n",
      "Iteration 1000, lr 0.000174\n",
      "---------------------------------\n",
      "loss: 2.627845 [iter 1010 of 2000]\n",
      "loss: 2.612896 [iter 1020 of 2000]\n",
      "loss: 2.613520 [iter 1030 of 2000]\n",
      "loss: 2.637749 [iter 1040 of 2000]\n",
      "loss: 2.619691 [iter 1050 of 2000]\n",
      "loss: 2.585208 [iter 1060 of 2000]\n",
      "loss: 2.610669 [iter 1070 of 2000]\n",
      "loss: 2.640070 [iter 1080 of 2000]\n",
      "loss: 2.629345 [iter 1090 of 2000]\n",
      "\n",
      "Iteration 1100, lr 0.000157\n",
      "---------------------------------\n",
      "loss: 2.631598 [iter 1110 of 2000]\n",
      "loss: 2.611078 [iter 1120 of 2000]\n",
      "loss: 2.628106 [iter 1130 of 2000]\n",
      "loss: 2.626341 [iter 1140 of 2000]\n",
      "loss: 2.615483 [iter 1150 of 2000]\n",
      "loss: 2.630904 [iter 1160 of 2000]\n",
      "loss: 2.640682 [iter 1170 of 2000]\n",
      "loss: 2.618937 [iter 1180 of 2000]\n",
      "loss: 2.645030 [iter 1190 of 2000]\n",
      "\n",
      "Iteration 1200, lr 0.000141\n",
      "---------------------------------\n",
      "loss: 2.618189 [iter 1210 of 2000]\n",
      "loss: 2.597528 [iter 1220 of 2000]\n",
      "loss: 2.618700 [iter 1230 of 2000]\n",
      "loss: 2.619018 [iter 1240 of 2000]\n",
      "loss: 2.630548 [iter 1250 of 2000]\n",
      "loss: 2.607646 [iter 1260 of 2000]\n",
      "loss: 2.631930 [iter 1270 of 2000]\n",
      "loss: 2.619712 [iter 1280 of 2000]\n",
      "loss: 2.622092 [iter 1290 of 2000]\n",
      "\n",
      "Iteration 1300, lr 0.000127\n",
      "---------------------------------\n",
      "loss: 2.629869 [iter 1310 of 2000]\n",
      "loss: 2.610383 [iter 1320 of 2000]\n",
      "loss: 2.620707 [iter 1330 of 2000]\n",
      "loss: 2.602686 [iter 1340 of 2000]\n",
      "loss: 2.631164 [iter 1350 of 2000]\n",
      "loss: 2.638342 [iter 1360 of 2000]\n",
      "loss: 2.611363 [iter 1370 of 2000]\n",
      "loss: 2.622633 [iter 1380 of 2000]\n",
      "loss: 2.607119 [iter 1390 of 2000]\n",
      "\n",
      "Iteration 1400, lr 0.000114\n",
      "---------------------------------\n",
      "loss: 2.620369 [iter 1410 of 2000]\n",
      "loss: 2.612850 [iter 1420 of 2000]\n",
      "loss: 2.625311 [iter 1430 of 2000]\n",
      "loss: 2.606314 [iter 1440 of 2000]\n",
      "loss: 2.614378 [iter 1450 of 2000]\n",
      "loss: 2.608928 [iter 1460 of 2000]\n",
      "loss: 2.622129 [iter 1470 of 2000]\n",
      "loss: 2.632433 [iter 1480 of 2000]\n",
      "loss: 2.616886 [iter 1490 of 2000]\n",
      "\n",
      "Iteration 1500, lr 0.000103\n",
      "---------------------------------\n",
      "loss: 2.601930 [iter 1510 of 2000]\n",
      "loss: 2.621503 [iter 1520 of 2000]\n",
      "loss: 2.613662 [iter 1530 of 2000]\n",
      "loss: 2.612560 [iter 1540 of 2000]\n",
      "loss: 2.599291 [iter 1550 of 2000]\n",
      "loss: 2.620408 [iter 1560 of 2000]\n",
      "loss: 2.603176 [iter 1570 of 2000]\n",
      "loss: 2.596562 [iter 1580 of 2000]\n",
      "loss: 2.619692 [iter 1590 of 2000]\n",
      "\n",
      "Iteration 1600, lr 0.000093\n",
      "---------------------------------\n",
      "loss: 2.624049 [iter 1610 of 2000]\n",
      "loss: 2.616513 [iter 1620 of 2000]\n",
      "loss: 2.601332 [iter 1630 of 2000]\n",
      "loss: 2.619195 [iter 1640 of 2000]\n",
      "loss: 2.631255 [iter 1650 of 2000]\n",
      "loss: 2.604091 [iter 1660 of 2000]\n",
      "loss: 2.635601 [iter 1670 of 2000]\n",
      "loss: 2.617864 [iter 1680 of 2000]\n",
      "loss: 2.615563 [iter 1690 of 2000]\n",
      "\n",
      "Iteration 1700, lr 0.000083\n",
      "---------------------------------\n",
      "loss: 2.630649 [iter 1710 of 2000]\n",
      "loss: 2.610014 [iter 1720 of 2000]\n",
      "loss: 2.614181 [iter 1730 of 2000]\n",
      "loss: 2.599419 [iter 1740 of 2000]\n",
      "loss: 2.612735 [iter 1750 of 2000]\n",
      "loss: 2.635381 [iter 1760 of 2000]\n",
      "loss: 2.593751 [iter 1770 of 2000]\n",
      "loss: 2.606619 [iter 1780 of 2000]\n",
      "loss: 2.616148 [iter 1790 of 2000]\n",
      "\n",
      "Iteration 1800, lr 0.000075\n",
      "---------------------------------\n",
      "loss: 2.611609 [iter 1810 of 2000]\n",
      "loss: 2.613438 [iter 1820 of 2000]\n",
      "loss: 2.611763 [iter 1830 of 2000]\n",
      "loss: 2.599690 [iter 1840 of 2000]\n",
      "loss: 2.634796 [iter 1850 of 2000]\n",
      "loss: 2.640821 [iter 1860 of 2000]\n",
      "loss: 2.595576 [iter 1870 of 2000]\n",
      "loss: 2.602415 [iter 1880 of 2000]\n",
      "loss: 2.626921 [iter 1890 of 2000]\n",
      "\n",
      "Iteration 1900, lr 0.000068\n",
      "---------------------------------\n",
      "loss: 2.598653 [iter 1910 of 2000]\n",
      "loss: 2.620689 [iter 1920 of 2000]\n",
      "loss: 2.615930 [iter 1930 of 2000]\n",
      "loss: 2.618836 [iter 1940 of 2000]\n",
      "loss: 2.625299 [iter 1950 of 2000]\n",
      "loss: 2.617826 [iter 1960 of 2000]\n",
      "loss: 2.629923 [iter 1970 of 2000]\n",
      "loss: 2.624381 [iter 1980 of 2000]\n",
      "loss: 2.620035 [iter 1990 of 2000]\n",
      "\n"
     ]
    }
   ],
   "source": [
    "\n",
    "# run the optimization\n",
    "trainer.run()\n"
   ]
  },
  {
   "cell_type": "markdown",
   "metadata": {},
   "source": [
    "### Save Data"
   ]
  },
  {
   "cell_type": "code",
   "execution_count": 5,
   "metadata": {},
   "outputs": [
    {
     "name": "stdout",
     "output_type": "stream",
     "text": [
      "Saved data to \"/home/alexey/School/Classes/AMATH 515/AMATH515_Project/Saved_Data/minGPT_Adagrad_StepLR.torch\"\n"
     ]
    }
   ],
   "source": [
    "\n",
    "save_dir = os.path.join(file_dir,\\\n",
    "                        \"Saved_Data\")\n",
    "save_fn = f\"minGPT_{pkg_config['mingpt_SGD_method']}_{pkg_config['mingpt_Scheduler']}.torch\"\n",
    "save_abs = os.path.join(save_dir, save_fn)\n",
    "os.makedirs(save_dir, mode=0o777, exist_ok=True)\n",
    "torch.save({\n",
    "        \"losses\": trainer.losses,\n",
    "        \"lrs\": trainer.lrs,\n",
    "        \"config\": pkg_config\n",
    "    }, save_abs)\n",
    "print(f\"Saved data to \\\"{save_abs}\\\"\")\n"
   ]
  },
  {
   "cell_type": "markdown",
   "metadata": {},
   "source": [
    "### Create and Save Plots"
   ]
  },
  {
   "cell_type": "code",
   "execution_count": 6,
   "metadata": {},
   "outputs": [
    {
     "name": "stdout",
     "output_type": "stream",
     "text": [
      "Saved plot to \"/home/alexey/School/Classes/AMATH 515/AMATH515_Project/Plots/minGPT_Adagrad_StepLR_losses.pdf\"\n"
     ]
    },
    {
     "data": {
      "image/png": "[encoded data removed]",
      "text/plain": [
       "<Figure size 640x480 with 1 Axes>"
      ]
     },
     "metadata": {},
     "output_type": "display_data"
    },
    {
     "name": "stdout",
     "output_type": "stream",
     "text": [
      "Saved plot to \"/home/alexey/School/Classes/AMATH 515/AMATH515_Project/Plots/minGPT_Adagrad_StepLR_lrs.pdf\"\n"
     ]
    },
    {
     "data": {
      "image/png": "[encoded data removed]",
      "text/plain": [
       "<Figure size 640x480 with 1 Axes>"
      ]
     },
     "metadata": {},
     "output_type": "display_data"
    }
   ],
   "source": [
    "\n",
    "plot_dir = os.path.join(file_dir,\\\n",
    "                        \"Plots\")\n",
    "os.makedirs(plot_dir, mode=0o777, exist_ok=True)\n",
    "\n",
    "import matplotlib.pyplot as plt\n",
    "\n",
    "# Plot losses\n",
    "plt.plot(trainer.losses)\n",
    "plt.ylabel(\"Training loss\")\n",
    "plt.xlabel(\"Training iterations\")\n",
    "plt.title(\"minGPT Training Loss Per Iteration\")\n",
    "\n",
    "# Save losses\n",
    "plot_fn = f\"minGPT_{pkg_config['mingpt_SGD_method']}_{pkg_config['mingpt_Scheduler']}_losses.pdf\"\n",
    "plot_abs = os.path.join(plot_dir, plot_fn)\n",
    "plt.savefig(plot_abs)\n",
    "print(f\"Saved plot to \\\"{plot_abs}\\\"\")\n",
    "\n",
    "plt.show()\n",
    "\n",
    "# Plot learning rates\n",
    "plt.plot(trainer.lrs)\n",
    "plt.ylabel(\"Training learning rate\")\n",
    "plt.xlabel(\"Training iterations\")\n",
    "plt.title(\"minGPT Training Learning Rate Per Iteration\")\n",
    "\n",
    "# Save lrs\n",
    "plot_fn = f\"minGPT_{pkg_config['mingpt_SGD_method']}_{pkg_config['mingpt_Scheduler']}_lrs.pdf\"\n",
    "plot_abs = os.path.join(plot_dir, plot_fn)\n",
    "plt.savefig(plot_abs)\n",
    "print(f\"Saved plot to \\\"{plot_abs}\\\"\")\n",
    "\n",
    "plt.show()\n"
   ]
  },
  {
   "cell_type": "code",
   "execution_count": null,
   "metadata": {},
   "outputs": [],
   "source": []
  }
 ],
 "metadata": {
  "kernelspec": {
   "display_name": "research",
   "language": "python",
   "name": "python3"
  },
  "language_info": {
   "codemirror_mode": {
    "name": "ipython",
    "version": 3
   },
   "file_extension": ".py",
   "mimetype": "text/x-python",
   "name": "python",
   "nbconvert_exporter": "python",
   "pygments_lexer": "ipython3",
   "version": "3.11.5"
  }
 },
 "nbformat": 4,
 "nbformat_minor": 2
}
